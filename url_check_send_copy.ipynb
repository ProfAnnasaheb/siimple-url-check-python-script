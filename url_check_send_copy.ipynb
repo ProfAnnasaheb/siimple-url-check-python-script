{
  "nbformat": 4,
  "nbformat_minor": 0,
  "metadata": {
    "colab": {
      "provenance": []
    },
    "kernelspec": {
      "name": "python3",
      "display_name": "Python 3"
    },
    "language_info": {
      "name": "python"
    }
  },
  "cells": [
    {
      "cell_type": "code",
      "execution_count": 1,
      "metadata": {
        "colab": {
          "base_uri": "https://localhost:8080/"
        },
        "id": "ZKeYPAi95UA_",
        "outputId": "84c67fb0-084d-4130-8e4a-5945c49134eb"
      },
      "outputs": [
        {
          "output_type": "stream",
          "name": "stdout",
          "text": [
            "URL https://www.google.com is valid and accessible.\n",
            "URL https://www.yahoo.com is valid and accessible.\n"
          ]
        }
      ],
      "source": [
        "import requests\n",
        "\n",
        "def check_url(url):\n",
        "    try:\n",
        "        response = requests.get(url)\n",
        "        if response.status_code == 200:\n",
        "            print(f\"URL {url} is valid and accessible.\")\n",
        "        else:\n",
        "            print(f\"URL {url} returned a non-200 status code: {response.status_code}\")\n",
        "    except requests.exceptions.RequestException as e:\n",
        "        print(f\"An error occurred while checking URL {url}: {str(e)}\")\n",
        "\n",
        "# Example usage\n",
        "check_url(\"https://www.google.com\")\n",
        "check_url(\"https://www.yahoo.com\")"
      ]
    }
  ]
}